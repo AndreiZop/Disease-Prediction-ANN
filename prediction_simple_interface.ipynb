{
 "cells": [
  {
   "cell_type": "code",
   "execution_count": 27,
   "id": "2921bb0b-0723-4e30-843a-7a8f52ee3928",
   "metadata": {},
   "outputs": [],
   "source": [
    "import tensorflow as tf\n",
    "from tensorflow import keras\n",
    "from tensorflow.keras import layers\n",
    "from tensorflow.keras.callbacks import EarlyStopping\n",
    "from tensorflow.keras import models, layers \n",
    "import numpy as np\n",
    "from fuzzywuzzy import fuzz\n",
    "from fuzzywuzzy import fuzz\n",
    "import pickle\n",
    "\n",
    "with open('mappings_and_symptoms.pkl', 'rb') as f:\n",
    "        disease_labels, mapping_dict, unique_symp = pickle.load(f)\n",
    "model = tf.keras.models.load_model('model')    "
   ]
  },
  {
   "cell_type": "code",
   "execution_count": 28,
   "id": "eb205795-5863-40a9-8c56-91d968bf50f7",
   "metadata": {},
   "outputs": [],
   "source": [
    "def find_most_similar_symptoms(user_input, unique_symptoms):\n",
    "    \"\"\"\n",
    "    Finds the most similar symptom to the user's input from a list of unique symptoms.\n",
    "    \n",
    "    Args:\n",
    "      user_input: The user's input symptoms.\n",
    "      unique_symptoms: A list of unique symptoms.\n",
    "    \n",
    "    Returns:\n",
    "      The most similar symptoms from the list, along with its similarity score.\n",
    "    \"\"\"  \n",
    "    output = list()\n",
    "    \n",
    "    for x in user_input:  \n",
    "        best_match = (\"\", 0)  # Initialize variables to store the best match and its score\n",
    "        for symptom in unique_symptoms:\n",
    "            similarity_score = fuzz.ratio(x, symptom)  # Calculate similarity\n",
    "            if similarity_score > best_match[1]:  # Check if better than the current best\n",
    "              best_match = (symptom, similarity_score)\n",
    "        output.append(best_match[0])\n",
    "    \n",
    "    return output\n",
    "    \n",
    "def match_user_input(user_input):\n",
    "    user_input = user_input.split(',')\n",
    "    corrected_input = find_most_similar_symptoms(user_input, unique_symp)\n",
    "    print(f'\\nCalculating diagnostic for symptoms: {corrected_input}')\n",
    "    return corrected_input\n",
    "    \n",
    "def encode_user_input(corrected_input):\n",
    "    encoded_input = np.zeros(len(unique_symp))\n",
    "    for result in corrected_input:\n",
    "        encoded_input[mapping_dict[result]] = 1  # Set corresponding index to 1\n",
    "    encoded_input = encoded_input.reshape(1,-1)\n",
    "    return encoded_input\n",
    "def predict(encoded_input,threshold=0.1):\n",
    "    predictions = model.predict(encoded_input)\n",
    "    results=[]\n",
    "    for i, prob in enumerate(predictions[0]):\n",
    "        if prob > threshold:\n",
    "            disease_name = disease_labels[i]\n",
    "            results.append((disease_name, prob))\n",
    "    return results"
   ]
  },
  {
   "cell_type": "code",
   "execution_count": 29,
   "id": "e56905eb-7e54-498d-9fc3-3dd9cdbf58b9",
   "metadata": {},
   "outputs": [],
   "source": [
    "def main():\n",
    "    user_input = input(\"Enter your symptoms(comma separated): \")\n",
    "    matched_user_input = match_user_input(user_input)\n",
    "    encoded_user_input=encode_user_input(matched_user_input)\n",
    "    results = predict(encoded_user_input, 0.1)\n",
    "    results = sorted(results, key=lambda  item: item[1],reverse=True)\n",
    "    diseases_str = ''\n",
    "    print('\\n')\n",
    "    for result in results:\n",
    "        print('Disease ' + result[0] + ' with probability ' + str(round(result[1]*100,2)) + '%\\n')\n",
    "        diseases_str += 'disease ' + result[0] + ' with probability ' + str(round(result[1]*100,2)) + '%, '\n",
    "    gpt_prompt = f'\\nGPT Prompt: The user has  {diseases_str}, based on analyzing the following symptoms {matched_user_input}. You are to provide the user with medical advice and reccomendations.'\n",
    "    print(gpt_prompt)"
   ]
  },
  {
   "cell_type": "code",
   "execution_count": 30,
   "id": "886db76f-be93-4bd0-90d7-ec76aa85117a",
   "metadata": {},
   "outputs": [
    {
     "name": "stdin",
     "output_type": "stream",
     "text": [
      "Enter your symptoms(comma separated):  cough, high fever, runny nose\n"
     ]
    },
    {
     "name": "stdout",
     "output_type": "stream",
     "text": [
      "\n",
      "Calculating diagnostic for symptoms: [' cough', ' high_fever', ' runny_nose']\n",
      "1/1 [==============================] - 0s 32ms/step\n",
      "\n",
      "\n",
      "Disease Common Cold with probability 11.25%\n",
      "\n",
      "\n",
      "GPT Prompt: The user has  disease Common Cold with probability 11.25%, , based on analyzing the following symptoms [' cough', ' high_fever', ' runny_nose']. You are to provide the user with medical advice and reccomendations.\n"
     ]
    }
   ],
   "source": [
    "main()"
   ]
  },
  {
   "cell_type": "markdown",
   "id": "530d3a40-6973-4e3e-b6dd-e882f9822f14",
   "metadata": {},
   "source": []
  }
 ],
 "metadata": {
  "kernelspec": {
   "display_name": "Python 3 (ipykernel)",
   "language": "python",
   "name": "python3"
  },
  "language_info": {
   "codemirror_mode": {
    "name": "ipython",
    "version": 3
   },
   "file_extension": ".py",
   "mimetype": "text/x-python",
   "name": "python",
   "nbconvert_exporter": "python",
   "pygments_lexer": "ipython3",
   "version": "3.9.18"
  }
 },
 "nbformat": 4,
 "nbformat_minor": 5
}
